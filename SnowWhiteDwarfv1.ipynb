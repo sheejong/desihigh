{
  "cells": [
    {
      "cell_type": "code",
      "source": [
        "from google.colab import drive\n",
        "drive.mount('/content/drive')\n"
      ],
      "metadata": {
        "colab": {
          "base_uri": "https://localhost:8080/"
        },
        "id": "50y-ebBemd-o",
        "outputId": "bb8a6bbb-0691-4194-da00-9e17f356b625"
      },
      "execution_count": 1,
      "outputs": [
        {
          "output_type": "stream",
          "name": "stdout",
          "text": [
            "Mounted at /content/drive\n"
          ]
        }
      ]
    },
    {
      "cell_type": "code",
      "source": [
        "import sys"
      ],
      "metadata": {
        "id": "_mzf5BXNnHsI"
      },
      "execution_count": 2,
      "outputs": []
    },
    {
      "cell_type": "code",
      "source": [
        "sys.path.append('/content/drive/MyDrive/desihigh/')"
      ],
      "metadata": {
        "id": "nzC33iJgnLbs"
      },
      "execution_count": 3,
      "outputs": []
    },
    {
      "cell_type": "code",
      "source": [
        "from tools import pubplot"
      ],
      "metadata": {
        "id": "_oVJsCIQnObQ"
      },
      "execution_count": 4,
      "outputs": []
    },
    {
      "cell_type": "code",
      "execution_count": 5,
      "metadata": {
        "id": "n60mx20Ml5_6"
      },
      "outputs": [],
      "source": [
        "import os\n",
        "import numpy               as     np\n",
        "import astropy.io.fits     as     fits\n",
        "import pylab               as     pl\n",
        "import pandas              as     pd\n",
        "import matplotlib.pyplot   as     plt \n",
        "from   tools        import pubplot\n",
        "\n",
        "from   IPython.display     import YouTubeVideo\n",
        "from   scipy               import interpolate\n",
        "from   scipy               import optimize\n",
        "from   tools.wave2rgb      import wavelength_to_rgb\n",
        "from   tools.resample_flux import trapz_rebin\n",
        "from   pkg_resources       import resource_filename"
      ]
    },
    {
      "cell_type": "markdown",
      "metadata": {
        "id": "Vn_3JlRnl5_8"
      },
      "source": [
        "# A snow white dwarf"
      ]
    },
    {
      "cell_type": "markdown",
      "metadata": {
        "id": "BvaoLOLPl6AB"
      },
      "source": [
        "When you look to the sky, who knows what you will find?  We're all familiar with our own [sun](https://solarsystem.nasa.gov/solar-system/sun/overview/), "
      ]
    },
    {
      "cell_type": "markdown",
      "metadata": {
        "id": "F2ByQ0Uxl6AB"
      },
      "source": [
        "<img src=\"https://github.com/sheejong/desihigh/blob/main/desihigh/images/sun.jpg?raw=1\" alt=\"Drawing\" style=\"width: 800px;\"/>"
      ]
    },
    {
      "cell_type": "markdown",
      "metadata": {
        "id": "dUZRnE_Gl6AC"
      },
      "source": [
        "a seemingly ever present that we see continually day-to-day.  Would it surprise you to know that in 5.5 billion years the sun will change beyond recognition as the Hydrogen fuelling nuclear fusion within runs out?  "
      ]
    },
    {
      "cell_type": "markdown",
      "metadata": {
        "id": "MRW0oHCBl6AC"
      },
      "source": [
        "<img src=\"https://github.com/sheejong/desihigh/blob/main/desihigh/images/RedGiant.jpg?raw=1\" alt=\"Drawing\" style=\"width: 800px;\"/>"
      ]
    },
    {
      "cell_type": "markdown",
      "metadata": {
        "id": "Ign5azGJl6AC"
      },
      "source": [
        "During this apparent mid-life crisis, the sun will begin to fuse Helium to create the carbon fundamental to life on earth, and the oxygen necessary to sustain it.  Expanding to ten-to-hundreds the size of the sun today, it will soon envelope Mercury & Venus, and perhaps [even Earth itself](https://phys.org/news/2016-05-earth-survive-sun-red-giant.html#:~:text=Red%20Giant%20Phase%3A,collapses%20under%20its%20own%20weight.), and eventual explode as a spectacular [planetary nebulae](https://www.space.com/17715-planetary-nebula.html): "
      ]
    },
    {
      "cell_type": "markdown",
      "metadata": {
        "id": "ChUuL_dal6AD"
      },
      "source": [
        "<img src=\"https://github.com/sheejong/desihigh/blob/main/desihigh/images/PlanetaryNebulae.jpg?raw=1\" alt=\"Drawing\" style=\"width: 800px;\"/>"
      ]
    },
    {
      "cell_type": "markdown",
      "metadata": {
        "id": "G5XWasTpl6AD"
      },
      "source": [
        "The ashen carbon-oxygen at the center will survive as a fossilised relic, dissipating energy just slowly enough that it will continue to survive for another 13.8 billion years, the current age of our Universe, and see in many more millenia."
      ]
    },
    {
      "cell_type": "markdown",
      "metadata": {
        "id": "NF0_XjeYl6AE"
      },
      "source": [
        "We can learn about this eventual fate of the sun, and its impact on Earth, by studying neighbouring White Dwarves in the Milky Way.  We'll look at one such candidate that DESI has observed only recently!"
      ]
    },
    {
      "cell_type": "code",
      "execution_count": 6,
      "metadata": {
        "id": "rQLfd8JZl6AE"
      },
      "outputs": [],
      "source": [
        "# Load the DESI spectrum\n",
        "andes = resource_filename('desihigh', 'student_andes')\n",
        "\n",
        "zbest = fits.open(andes + '/zbest-mws-66003-20200315-wd.fits')[1]\n",
        "coadd = fits.open(andes + '/coadd-mws-66003-20200315-wd.fits')"
      ]
    },
    {
      "cell_type": "code",
      "execution_count": 7,
      "metadata": {
        "id": "vP9Tt5xLl6AE",
        "colab": {
          "base_uri": "https://localhost:8080/"
        },
        "outputId": "3503e412-96aa-4292-e111-4c5770f9324e"
      },
      "outputs": [
        {
          "output_type": "execute_result",
          "data": {
            "text/plain": [
              "(<function print>,\n",
              " XTENSION= 'BINTABLE'           / binary table extension                         \n",
              " BITPIX  =                    8 / array data type                                \n",
              " NAXIS   =                    2 / number of array dimensions                     \n",
              " NAXIS1  =                  879 / length of dimension 1                          \n",
              " NAXIS2  =                    1 / length of dimension 2                          \n",
              " PCOUNT  =                    0 / number of group parameters                     \n",
              " GCOUNT  =                    1 / number of groups                               \n",
              " TFIELDS =                  162 / number of table fields                         \n",
              " TTYPE1  = 'TARGETID'                                                            \n",
              " TFORM1  = 'K       '                                                            \n",
              " TTYPE2  = 'CHI2    '                                                            \n",
              " TFORM2  = 'D       '                                                            \n",
              " TTYPE3  = 'COEFF   '                                                            \n",
              " TFORM3  = '10D     '                                                            \n",
              " TTYPE4  = 'Z       '                                                            \n",
              " TFORM4  = 'D       '                                                            \n",
              " TTYPE5  = 'ZERR    '                                                            \n",
              " TFORM5  = 'D       '                                                            \n",
              " TTYPE6  = 'ZWARN   '                                                            \n",
              " TFORM6  = 'K       '                                                            \n",
              " TTYPE7  = 'NPIXELS '                                                            \n",
              " TFORM7  = 'K       '                                                            \n",
              " TTYPE8  = 'SPECTYPE'                                                            \n",
              " TFORM8  = '6A      '                                                            \n",
              " TTYPE9  = 'SUBTYPE '                                                            \n",
              " TFORM9  = '20A     '                                                            \n",
              " TTYPE10 = 'NCOEFF  '                                                            \n",
              " TFORM10 = 'K       '                                                            \n",
              " TTYPE11 = 'DELTACHI2'                                                           \n",
              " TFORM11 = 'D       '                                                            \n",
              " TTYPE12 = 'NUMEXP  '                                                            \n",
              " TFORM12 = 'J       '                                                            \n",
              " TTYPE13 = 'NUMTILE '                                                            \n",
              " TFORM13 = 'J       '                                                            \n",
              " TTYPE14 = 'PETAL_LOC'                                                           \n",
              " TFORM14 = 'I       '                                                            \n",
              " TTYPE15 = 'DEVICE_LOC'                                                          \n",
              " TFORM15 = 'J       '                                                            \n",
              " TTYPE16 = 'LOCATION'                                                            \n",
              " TFORM16 = 'K       '                                                            \n",
              " TTYPE17 = 'FIBER   '                                                            \n",
              " TFORM17 = 'J       '                                                            \n",
              " TTYPE18 = 'FIBERSTATUS'                                                         \n",
              " TFORM18 = 'J       '                                                            \n",
              " TTYPE19 = 'TARGET_RA'                                                           \n",
              " TFORM19 = 'D       '                                                            \n",
              " TTYPE20 = 'TARGET_DEC'                                                          \n",
              " TFORM20 = 'D       '                                                            \n",
              " TTYPE21 = 'PMRA    '                                                            \n",
              " TFORM21 = 'E       '                                                            \n",
              " TTYPE22 = 'PMDEC   '                                                            \n",
              " TFORM22 = 'E       '                                                            \n",
              " TTYPE23 = 'PMRA_IVAR'                                                           \n",
              " TFORM23 = 'E       '                                                            \n",
              " TTYPE24 = 'PMDEC_IVAR'                                                          \n",
              " TFORM24 = 'E       '                                                            \n",
              " TTYPE25 = 'REF_EPOCH'                                                           \n",
              " TFORM25 = 'E       '                                                            \n",
              " TTYPE26 = 'LAMBDA_REF'                                                          \n",
              " TFORM26 = 'E       '                                                            \n",
              " TTYPE27 = 'FA_TARGET'                                                           \n",
              " TFORM27 = 'K       '                                                            \n",
              " TTYPE28 = 'FA_TYPE '                                                            \n",
              " TFORM28 = 'B       '                                                            \n",
              " TTYPE29 = 'OBJTYPE '                                                            \n",
              " TFORM29 = '3A      '                                                            \n",
              " TTYPE30 = 'FIBERASSIGN_X'                                                       \n",
              " TFORM30 = 'E       '                                                            \n",
              " TTYPE31 = 'FIBERASSIGN_Y'                                                       \n",
              " TFORM31 = 'E       '                                                            \n",
              " TTYPE32 = 'NUMTARGET'                                                           \n",
              " TFORM32 = 'I       '                                                            \n",
              " TTYPE33 = 'PRIORITY'                                                            \n",
              " TFORM33 = 'J       '                                                            \n",
              " TTYPE34 = 'SUBPRIORITY'                                                         \n",
              " TFORM34 = 'D       '                                                            \n",
              " TTYPE35 = 'OBSCONDITIONS'                                                       \n",
              " TFORM35 = 'J       '                                                            \n",
              " TTYPE36 = 'NUMOBS_MORE'                                                         \n",
              " TFORM36 = 'K       '                                                            \n",
              " TTYPE37 = 'RELEASE '                                                            \n",
              " TFORM37 = 'I       '                                                            \n",
              " TTYPE38 = 'BRICKID '                                                            \n",
              " TFORM38 = 'J       '                                                            \n",
              " TTYPE39 = 'BRICKNAME'                                                           \n",
              " TFORM39 = '8A      '                                                            \n",
              " TTYPE40 = 'BRICK_OBJID'                                                         \n",
              " TFORM40 = 'J       '                                                            \n",
              " TTYPE41 = 'MORPHTYPE'                                                           \n",
              " TFORM41 = '4A      '                                                            \n",
              " TTYPE42 = 'TARGET_RA_IVAR'                                                      \n",
              " TFORM42 = 'E       '                                                            \n",
              " TTYPE43 = 'TARGET_DEC_IVAR'                                                     \n",
              " TFORM43 = 'E       '                                                            \n",
              " TTYPE44 = 'EBV     '                                                            \n",
              " TFORM44 = 'E       '                                                            \n",
              " TTYPE45 = 'FLUX_G  '                                                            \n",
              " TFORM45 = 'E       '                                                            \n",
              " TTYPE46 = 'FLUX_R  '                                                            \n",
              " TFORM46 = 'E       '                                                            \n",
              " TTYPE47 = 'FLUX_Z  '                                                            \n",
              " TFORM47 = 'E       '                                                            \n",
              " TTYPE48 = 'FLUX_IVAR_G'                                                         \n",
              " TFORM48 = 'E       '                                                            \n",
              " TTYPE49 = 'FLUX_IVAR_R'                                                         \n",
              " TFORM49 = 'E       '                                                            \n",
              " TTYPE50 = 'FLUX_IVAR_Z'                                                         \n",
              " TFORM50 = 'E       '                                                            \n",
              " TTYPE51 = 'MW_TRANSMISSION_G'                                                   \n",
              " TFORM51 = 'E       '                                                            \n",
              " TTYPE52 = 'MW_TRANSMISSION_R'                                                   \n",
              " TFORM52 = 'E       '                                                            \n",
              " TTYPE53 = 'MW_TRANSMISSION_Z'                                                   \n",
              " TFORM53 = 'E       '                                                            \n",
              " TTYPE54 = 'FRACFLUX_G'                                                          \n",
              " TFORM54 = 'E       '                                                            \n",
              " TTYPE55 = 'FRACFLUX_R'                                                          \n",
              " TFORM55 = 'E       '                                                            \n",
              " TTYPE56 = 'FRACFLUX_Z'                                                          \n",
              " TFORM56 = 'E       '                                                            \n",
              " TTYPE57 = 'FRACMASKED_G'                                                        \n",
              " TFORM57 = 'E       '                                                            \n",
              " TTYPE58 = 'FRACMASKED_R'                                                        \n",
              " TFORM58 = 'E       '                                                            \n",
              " TTYPE59 = 'FRACMASKED_Z'                                                        \n",
              " TFORM59 = 'E       '                                                            \n",
              " TTYPE60 = 'FRACIN_G'                                                            \n",
              " TFORM60 = 'E       '                                                            \n",
              " TTYPE61 = 'FRACIN_R'                                                            \n",
              " TFORM61 = 'E       '                                                            \n",
              " TTYPE62 = 'FRACIN_Z'                                                            \n",
              " TFORM62 = 'E       '                                                            \n",
              " TTYPE63 = 'NOBS_G  '                                                            \n",
              " TFORM63 = 'I       '                                                            \n",
              " TTYPE64 = 'NOBS_R  '                                                            \n",
              " TFORM64 = 'I       '                                                            \n",
              " TTYPE65 = 'NOBS_Z  '                                                            \n",
              " TFORM65 = 'I       '                                                            \n",
              " TTYPE66 = 'PSFDEPTH_G'                                                          \n",
              " TFORM66 = 'E       '                                                            \n",
              " TTYPE67 = 'PSFDEPTH_R'                                                          \n",
              " TFORM67 = 'E       '                                                            \n",
              " TTYPE68 = 'PSFDEPTH_Z'                                                          \n",
              " TFORM68 = 'E       '                                                            \n",
              " TTYPE69 = 'GALDEPTH_G'                                                          \n",
              " TFORM69 = 'E       '                                                            \n",
              " TTYPE70 = 'GALDEPTH_R'                                                          \n",
              " TFORM70 = 'E       '                                                            \n",
              " TTYPE71 = 'GALDEPTH_Z'                                                          \n",
              " TFORM71 = 'E       '                                                            \n",
              " TTYPE72 = 'FLUX_W1 '                                                            \n",
              " TFORM72 = 'E       '                                                            \n",
              " TTYPE73 = 'FLUX_W2 '                                                            \n",
              " TFORM73 = 'E       '                                                            \n",
              " TTYPE74 = 'FLUX_W3 '                                                            \n",
              " TFORM74 = 'E       '                                                            \n",
              " TTYPE75 = 'FLUX_W4 '                                                            \n",
              " TFORM75 = 'E       '                                                            \n",
              " TTYPE76 = 'FLUX_IVAR_W1'                                                        \n",
              " TFORM76 = 'E       '                                                            \n",
              " TTYPE77 = 'FLUX_IVAR_W2'                                                        \n",
              " TFORM77 = 'E       '                                                            \n",
              " TTYPE78 = 'FLUX_IVAR_W3'                                                        \n",
              " TFORM78 = 'E       '                                                            \n",
              " TTYPE79 = 'FLUX_IVAR_W4'                                                        \n",
              " TFORM79 = 'E       '                                                            \n",
              " TTYPE80 = 'MW_TRANSMISSION_W1'                                                  \n",
              " TFORM80 = 'E       '                                                            \n",
              " TTYPE81 = 'MW_TRANSMISSION_W2'                                                  \n",
              " TFORM81 = 'E       '                                                            \n",
              " TTYPE82 = 'MW_TRANSMISSION_W3'                                                  \n",
              " TFORM82 = 'E       '                                                            \n",
              " TTYPE83 = 'MW_TRANSMISSION_W4'                                                  \n",
              " TFORM83 = 'E       '                                                            \n",
              " TTYPE84 = 'ALLMASK_G'                                                           \n",
              " TFORM84 = 'I       '                                                            \n",
              " TTYPE85 = 'ALLMASK_R'                                                           \n",
              " TFORM85 = 'I       '                                                            \n",
              " TTYPE86 = 'ALLMASK_Z'                                                           \n",
              " TFORM86 = 'I       '                                                            \n",
              " TTYPE87 = 'FIBERFLUX_G'                                                         \n",
              " TFORM87 = 'E       '                                                            \n",
              " TTYPE88 = 'FIBERFLUX_R'                                                         \n",
              " TFORM88 = 'E       '                                                            \n",
              " TTYPE89 = 'FIBERFLUX_Z'                                                         \n",
              " TFORM89 = 'E       '                                                            \n",
              " TTYPE90 = 'FIBERTOTFLUX_G'                                                      \n",
              " TFORM90 = 'E       '                                                            \n",
              " TTYPE91 = 'FIBERTOTFLUX_R'                                                      \n",
              " TFORM91 = 'E       '                                                            \n",
              " TTYPE92 = 'FIBERTOTFLUX_Z'                                                      \n",
              " TFORM92 = 'E       '                                                            \n",
              " TTYPE93 = 'WISEMASK_W1'                                                         \n",
              " TFORM93 = 'B       '                                                            \n",
              " TTYPE94 = 'WISEMASK_W2'                                                         \n",
              " TFORM94 = 'B       '                                                            \n",
              " TTYPE95 = 'MASKBITS'                                                            \n",
              " TFORM95 = 'I       '                                                            \n",
              " TTYPE96 = 'FRACDEV '                                                            \n",
              " TFORM96 = 'E       '                                                            \n",
              " TTYPE97 = 'FRACDEV_IVAR'                                                        \n",
              " TFORM97 = 'E       '                                                            \n",
              " TTYPE98 = 'SHAPEDEV_R'                                                          \n",
              " TFORM98 = 'E       '                                                            \n",
              " TTYPE99 = 'SHAPEDEV_E1'                                                         \n",
              " TFORM99 = 'E       '                                                            \n",
              " TTYPE100= 'SHAPEDEV_E2'                                                         \n",
              " TFORM100= 'E       '                                                            \n",
              " TTYPE101= 'SHAPEDEV_R_IVAR'                                                     \n",
              " TFORM101= 'E       '                                                            \n",
              " TTYPE102= 'SHAPEDEV_E1_IVAR'                                                    \n",
              " TFORM102= 'E       '                                                            \n",
              " TTYPE103= 'SHAPEDEV_E2_IVAR'                                                    \n",
              " TFORM103= 'E       '                                                            \n",
              " TTYPE104= 'SHAPEEXP_R'                                                          \n",
              " TFORM104= 'E       '                                                            \n",
              " TTYPE105= 'SHAPEEXP_E1'                                                         \n",
              " TFORM105= 'E       '                                                            \n",
              " TTYPE106= 'SHAPEEXP_E2'                                                         \n",
              " TFORM106= 'E       '                                                            \n",
              " TTYPE107= 'SHAPEEXP_R_IVAR'                                                     \n",
              " TFORM107= 'E       '                                                            \n",
              " TTYPE108= 'SHAPEEXP_E1_IVAR'                                                    \n",
              " TFORM108= 'E       '                                                            \n",
              " TTYPE109= 'SHAPEEXP_E2_IVAR'                                                    \n",
              " TFORM109= 'E       '                                                            \n",
              " TTYPE110= 'REF_ID  '                                                            \n",
              " TFORM110= 'K       '                                                            \n",
              " TTYPE111= 'REF_CAT '                                                            \n",
              " TFORM111= '2A      '                                                            \n",
              " TTYPE112= 'GAIA_PHOT_G_MEAN_MAG'                                                \n",
              " TFORM112= 'E       '                                                            \n",
              " TTYPE113= 'GAIA_PHOT_G_MEAN_FLUX_OVER_ERROR'                                    \n",
              " TFORM113= 'E       '                                                            \n",
              " TTYPE114= 'GAIA_PHOT_BP_MEAN_MAG'                                               \n",
              " TFORM114= 'E       '                                                            \n",
              " TTYPE115= 'GAIA_PHOT_BP_MEAN_FLUX_OVER_ERROR'                                   \n",
              " TFORM115= 'E       '                                                            \n",
              " TTYPE116= 'GAIA_PHOT_RP_MEAN_MAG'                                               \n",
              " TFORM116= 'E       '                                                            \n",
              " TTYPE117= 'GAIA_PHOT_RP_MEAN_FLUX_OVER_ERROR'                                   \n",
              " TFORM117= 'E       '                                                            \n",
              " TTYPE118= 'GAIA_PHOT_BP_RP_EXCESS_FACTOR'                                       \n",
              " TFORM118= 'E       '                                                            \n",
              " TTYPE119= 'GAIA_ASTROMETRIC_EXCESS_NOISE'                                       \n",
              " TFORM119= 'E       '                                                            \n",
              " TTYPE120= 'GAIA_DUPLICATED_SOURCE'                                              \n",
              " TFORM120= 'L       '                                                            \n",
              " TTYPE121= 'GAIA_ASTROMETRIC_SIGMA5D_MAX'                                        \n",
              " TFORM121= 'E       '                                                            \n",
              " TTYPE122= 'GAIA_ASTROMETRIC_PARAMS_SOLVED'                                      \n",
              " TFORM122= 'L       '                                                            \n",
              " TTYPE123= 'PARALLAX'                                                            \n",
              " TFORM123= 'E       '                                                            \n",
              " TTYPE124= 'PARALLAX_IVAR'                                                       \n",
              " TFORM124= 'E       '                                                            \n",
              " TTYPE125= 'PHOTSYS '                                                            \n",
              " TFORM125= '1A      '                                                            \n",
              " TTYPE126= 'CMX_TARGET'                                                          \n",
              " TFORM126= 'K       '                                                            \n",
              " TTYPE127= 'PRIORITY_INIT'                                                       \n",
              " TFORM127= 'K       '                                                            \n",
              " TTYPE128= 'NUMOBS_INIT'                                                         \n",
              " TFORM128= 'K       '                                                            \n",
              " TTYPE129= 'HPXPIXEL'                                                            \n",
              " TFORM129= 'K       '                                                            \n",
              " TTYPE130= 'BLOBDIST'                                                            \n",
              " TFORM130= 'E       '                                                            \n",
              " TTYPE131= 'FIBERFLUX_IVAR_G'                                                    \n",
              " TFORM131= 'E       '                                                            \n",
              " TTYPE132= 'FIBERFLUX_IVAR_R'                                                    \n",
              " TFORM132= 'E       '                                                            \n",
              " TTYPE133= 'FIBERFLUX_IVAR_Z'                                                    \n",
              " TFORM133= 'E       '                                                            \n",
              " TTYPE134= 'DESI_TARGET'                                                         \n",
              " TFORM134= 'K       '                                                            \n",
              " TTYPE135= 'BGS_TARGET'                                                          \n",
              " TFORM135= 'K       '                                                            \n",
              " TTYPE136= 'MWS_TARGET'                                                          \n",
              " TFORM136= 'K       '                                                            \n",
              " TTYPE137= 'NUM_ITER'                                                            \n",
              " TFORM137= 'K       '                                                            \n",
              " TTYPE138= 'FIBER_X '                                                            \n",
              " TFORM138= 'D       '                                                            \n",
              " TTYPE139= 'FIBER_Y '                                                            \n",
              " TFORM139= 'D       '                                                            \n",
              " TTYPE140= 'MEAN_DELTA_X'                                                        \n",
              " TFORM140= 'D       '                                                            \n",
              " TTYPE141= 'MEAN_DELTA_Y'                                                        \n",
              " TFORM141= 'D       '                                                            \n",
              " TTYPE142= 'FIBER_RA'                                                            \n",
              " TFORM142= 'D       '                                                            \n",
              " TTYPE143= 'FIBER_DEC'                                                           \n",
              " TFORM143= 'D       '                                                            \n",
              " TTYPE144= 'NIGHT   '                                                            \n",
              " TFORM144= 'J       '                                                            \n",
              " TTYPE145= 'EXPID   '                                                            \n",
              " TFORM145= 'J       '                                                            \n",
              " TTYPE146= 'MJD     '                                                            \n",
              " TFORM146= 'D       '                                                            \n",
              " TTYPE147= 'TILEID  '                                                            \n",
              " TFORM147= 'J       '                                                            \n",
              " TTYPE148= 'COADD_NUMEXP'                                                        \n",
              " TFORM148= 'I       '                                                            \n",
              " TTYPE149= 'RMS_DELTA_X'                                                         \n",
              " TFORM149= 'D       '                                                            \n",
              " TTYPE150= 'RMS_DELTA_Y'                                                         \n",
              " TFORM150= 'D       '                                                            \n",
              " TTYPE151= 'FIRST_NIGHT'                                                         \n",
              " TFORM151= 'K       '                                                            \n",
              " TTYPE152= 'LAST_NIGHT'                                                          \n",
              " TFORM152= 'K       '                                                            \n",
              " TTYPE153= 'NUM_NIGHT'                                                           \n",
              " TFORM153= 'K       '                                                            \n",
              " TTYPE154= 'FIRST_EXPID'                                                         \n",
              " TFORM154= 'K       '                                                            \n",
              " TTYPE155= 'LAST_EXPID'                                                          \n",
              " TFORM155= 'K       '                                                            \n",
              " TTYPE156= 'NUM_EXPID'                                                           \n",
              " TFORM156= 'K       '                                                            \n",
              " TTYPE157= 'FIRST_TILEID'                                                        \n",
              " TFORM157= 'K       '                                                            \n",
              " TTYPE158= 'LAST_TILEID'                                                         \n",
              " TFORM158= 'K       '                                                            \n",
              " TTYPE159= 'NUM_TILEID'                                                          \n",
              " TFORM159= 'K       '                                                            \n",
              " TTYPE160= 'FIRST_FIBER'                                                         \n",
              " TFORM160= 'K       '                                                            \n",
              " TTYPE161= 'LAST_FIBER'                                                          \n",
              " TFORM161= 'K       '                                                            \n",
              " TTYPE162= 'NUM_FIBER'                                                           \n",
              " TFORM162= 'K       '                                                            \n",
              " EXTNAME = 'ZBEST   '                                                            )"
            ]
          },
          "metadata": {},
          "execution_count": 7
        }
      ],
      "source": [
        "# Get its position on the sky:\n",
        "ra, dec = float(zbest.data['TARGET_RA']), float(zbest.data['TARGET_DEC'])\n",
        "z = float(zbest.data['Z'])\n",
        "print,zbest.header"
      ]
    },
    {
      "cell_type": "markdown",
      "metadata": {
        "id": "3ZuBzvXnl6AE"
      },
      "source": [
        "It's position on the night sky lies just above [Ursa Marjor](https://en.wikipedia.org/wiki/Ursa_Major) or the Great Bear,"
      ]
    },
    {
      "cell_type": "markdown",
      "metadata": {
        "id": "gyYrrcuTl6AE"
      },
      "source": [
        "<img src=\"https://github.com/sheejong/desihigh/blob/main/desihigh/images/UrsaMajor.jpg?raw=1\" alt=\"Drawing\" style=\"width: 800px;\"/>"
      ]
    },
    {
      "cell_type": "markdown",
      "metadata": {
        "id": "WN0GKzvTl6AF"
      },
      "source": [
        "familiar in the night sky:"
      ]
    },
    {
      "cell_type": "markdown",
      "metadata": {
        "id": "vFO6Bd3ll6AF"
      },
      "source": [
        "<img src=\"https://github.com/sheejong/desihigh/blob/main/desihigh/images/UrsaMajor2.png?raw=1\" alt=\"Drawing\" style=\"width: 800px;\"/>"
      ]
    },
    {
      "cell_type": "markdown",
      "metadata": {
        "id": "l3UUUhEIl6AF"
      },
      "source": [
        "If you were to stare long enough, you'd see an almost imperceptible change in the apparent position as our viewpoint changes as the Earth orbits the Sun.  Remember, the dinosaurs roamed planet Earth on the other side of the galaxy!\n",
        "\n",
        "The motion of the Earth around the sun is just enough, given a precise enough instrument, to calculate the distance to our White Dwarf given simple trigonometry you've likely already seen:  "
      ]
    },
    {
      "cell_type": "markdown",
      "metadata": {
        "id": "yjqsUfM6l6AF"
      },
      "source": [
        "<img src=\"https://github.com/sheejong/desihigh/blob/main/desihigh/images/PDistance.jpg?raw=1\" alt=\"Drawing\" style=\"width: 800px;\"/>"
      ]
    },
    {
      "cell_type": "markdown",
      "metadata": {
        "id": "secw2mIzl6AF"
      },
      "source": [
        "The [GAIA](https://www.esa.int/Science_Exploration/Space_Science/Gaia_overview) space satellite was precisely designed to do this this and will eventually map one billion stars in the Milky Way, roughly one in every hundred there, in this way."
      ]
    },
    {
      "cell_type": "markdown",
      "metadata": {
        "id": "j-BAbPJHl6AG"
      },
      "source": [
        "<img src=\"https://github.com/sheejong/desihigh/blob/main/desihigh/images/Gaia.jpg?raw=1\" alt=\"Drawing\" style=\"width: 800px;\"/>"
      ]
    },
    {
      "cell_type": "markdown",
      "metadata": {
        "id": "hIQzIHxsl6AG"
      },
      "source": [
        "With this parallax, GAIA tells us the distance to our white dwarf:  "
      ]
    },
    {
      "cell_type": "code",
      "execution_count": 8,
      "metadata": {
        "id": "V4RAK3onl6AG"
      },
      "outputs": [],
      "source": [
        "# Distance calculated from Gaia parallax (Bailer-Jones et al. 2018).\n",
        "# Photometric data and the [computed distance](https://ui.adsabs.harvard.edu/abs/2018AJ....156...58B/) can be found at the [Gaia Archive](https://gea.esac.esa.int/archive/)\n",
        "dist_para = 784.665266     # parcsecs, 1 parsec = 3.0857 x 10^16 m. \n",
        "\n",
        "parsec    = 3.085677581e16 # m \n",
        "\n",
        "# AU: Astronomical Unit - distance between the Sun and the Earth.\n",
        "au        = 1.495978707e11 # m"
      ]
    },
    {
      "cell_type": "code",
      "execution_count": 9,
      "metadata": {
        "colab": {
          "base_uri": "https://localhost:8080/"
        },
        "id": "4t2WfToXl6AH",
        "outputId": "8027c7ae-cf2e-4374-a422-429afca46f56"
      },
      "outputs": [
        {
          "output_type": "stream",
          "name": "stdout",
          "text": [
            "GAIA parallax tells us that the distance to our White Dwarf is 162 million x the distance from the Earth to the Sun.\n"
          ]
        }
      ],
      "source": [
        "print('GAIA parallax tells us that the distance to our White Dwarf is {:.0f} million x the distance from the Earth to the Sun.'.format(dist_para * parsec / au / 1.e6))"
      ]
    },
    {
      "cell_type": "markdown",
      "source": [
        "Task: Can you estimate what the parallax was for this star?"
      ],
      "metadata": {
        "id": "SHhID_IgrRrK"
      }
    },
    {
      "cell_type": "code",
      "source": [
        "#What was the parallex?  \n",
        "para = 1./dist_para\n",
        "print, para\n",
        "\n",
        "\n"
      ],
      "metadata": {
        "id": "siv03MX6oP9p",
        "outputId": "58cdeaa4-12ae-4086-977e-b890b178d3ff",
        "colab": {
          "base_uri": "https://localhost:8080/"
        }
      },
      "execution_count": 10,
      "outputs": [
        {
          "output_type": "execute_result",
          "data": {
            "text/plain": [
              "(<function print>, 0.0012744287829862984)"
            ]
          },
          "metadata": {},
          "execution_count": 10
        }
      ]
    },
    {
      "cell_type": "markdown",
      "source": [
        "Task: Let's make your own function. Here my example is a function that calculates distance in parsec given the parallax in arcsec."
      ],
      "metadata": {
        "id": "qApo0CcwrezF"
      }
    },
    {
      "cell_type": "code",
      "source": [
        "#Define a function that calculates distance  based on parallax. Parallax must be in arcsec\n",
        "def distance(r):\n",
        "    # Vacuum wavelengths of Hydrogen [nanometres], see the Intro.\n",
        "    result = 1/r\n",
        "    return result"
      ],
      "metadata": {
        "id": "kYfKvMAuRPv8"
      },
      "execution_count": 11,
      "outputs": []
    },
    {
      "cell_type": "code",
      "source": [
        "distance(0.1)\n",
        "distance(10.0)"
      ],
      "metadata": {
        "colab": {
          "base_uri": "https://localhost:8080/"
        },
        "id": "ES5Sne6WRuIl",
        "outputId": "1a26e793-3091-4e5d-e0ba-7ed2816a9cfc"
      },
      "execution_count": 13,
      "outputs": [
        {
          "output_type": "execute_result",
          "data": {
            "text/plain": [
              "0.1"
            ]
          },
          "metadata": {},
          "execution_count": 13
        }
      ]
    },
    {
      "cell_type": "markdown",
      "source": [
        "Task: Try to print this out. "
      ],
      "metadata": {
        "id": "SKNCgJm3rvbs"
      }
    },
    {
      "cell_type": "code",
      "source": [
        "print('The parallex measured must be {:5.3f} arcsecs.'.format(para * 1.0e0))"
      ],
      "metadata": {
        "colab": {
          "base_uri": "https://localhost:8080/"
        },
        "id": "ou7fzBJRP_6O",
        "outputId": "a3cef834-6d0a-4ff5-83a0-325703a11243"
      },
      "execution_count": 14,
      "outputs": [
        {
          "output_type": "stream",
          "name": "stdout",
          "text": [
            "The parallex measured must be 0.001 arcsecs.\n"
          ]
        }
      ]
    },
    {
      "cell_type": "markdown",
      "metadata": {
        "id": "_C3W7iYbl6AH"
      },
      "source": [
        "The GAIA camera is designed to measure the brightness of the white dwarf in three different parts of the visible spectrum, corresponding to the colors shown below.  You'll recognise this as the same style plot we explored for Hydrogen Rydberg lines in the Intro."
      ]
    },
    {
      "cell_type": "code",
      "execution_count": 15,
      "metadata": {
        "id": "kc9gGXxzl6AI"
      },
      "outputs": [],
      "source": [
        "# (Pivot) Wavelengths for the Gaia DR2 filters.\n",
        "GAIA = {'G_WAVE': 6230.6, 'BP_WAVE': 5051.5, 'RP_WAVE': 7726.2}"
      ]
    },
    {
      "cell_type": "code",
      "execution_count": 16,
      "metadata": {
        "colab": {
          "base_uri": "https://localhost:8080/",
          "height": 371
        },
        "id": "NerI8J1Ml6AJ",
        "outputId": "78dfe731-56e6-4791-a6ad-aec616b00e27"
      },
      "outputs": [
        {
          "output_type": "execute_result",
          "data": {
            "text/plain": [
              "(380.0, 780.0)"
            ]
          },
          "metadata": {},
          "execution_count": 16
        },
        {
          "output_type": "stream",
          "name": "stderr",
          "text": [
            "findfont: Font family ['serif'] not found. Falling back to DejaVu Sans.\n",
            "findfont: Font family ['serif'] not found. Falling back to DejaVu Sans.\n",
            "findfont: Font family ['serif'] not found. Falling back to DejaVu Sans.\n"
          ]
        },
        {
          "output_type": "display_data",
          "data": {
            "image/png": "[encoded data removed]",
            "text/plain": [
              "<Figure size 478.207x295.548 with 1 Axes>"
            ]
          },
          "metadata": {
            "needs_background": "light"
          }
        }
      ],
      "source": [
        "for wave in GAIA.values():\n",
        "  # color = [r, g, b]\n",
        "  color = wavelength_to_rgb(wave / 10.)       #1/10 because the input is expected  to be in nm. \n",
        "  pl.axvline(x=wave / 10., c=color)\n",
        "\n",
        "# add more vertical lines if you would like to. Add a horizontal lines at 0.4\n",
        "#pl.axhline(y=0.5, c='b')\n",
        "\n",
        "pl.title('Wavelengths (and colors) at which GAIA measures the brightness of each star', pad=10.5, fontsize=10)\n",
        "pl.xlabel('Vacuum wavelength [nanometers]')\n",
        "pl.xlim(380., 780.)"
      ]
    },
    {
      "cell_type": "markdown",
      "source": [
        "Task: Add a horizonta line using the plotting command above.\n",
        "\n",
        "Task: Find where 'wavelength_to_rgb' is defined."
      ],
      "metadata": {
        "id": "SORaiYhbr13y"
      }
    },
    {
      "cell_type": "markdown",
      "source": [
        "Remember the magnitude to flux conversion?\n",
        "\n",
        "$mag = -2.5 \\log_{10}(F/F_0)$\n",
        "\n",
        "We are getting flux from Gaia magnitude below.\n",
        "\n",
        "$F = 10^{(-mag/2.5)}*F_0$"
      ],
      "metadata": {
        "id": "Y5j9UaJQVSuk"
      }
    },
    {
      "cell_type": "code",
      "source": [
        ""
      ],
      "metadata": {
        "id": "VBrhyUvRVZrP"
      },
      "execution_count": null,
      "outputs": []
    },
    {
      "cell_type": "code",
      "execution_count": 17,
      "metadata": {
        "id": "Kg_1hqAAl6AJ"
      },
      "outputs": [],
      "source": [
        "for band in ['G', 'BP', 'RP']:\n",
        "    GAIA[band + '_MAG']  = zbest.data['GAIA_PHOT_{}_MEAN_MAG'.format(band)][0]    \n",
        "    GAIA[band + '_FLUX'] = 10.**(-(GAIA[band + '_MAG'] + (25.7934 - 25.6884)) / 2.5) * 3631. / 3.34e4 / GAIA[band + '_WAVE']**2.\n"
      ]
    },
    {
      "cell_type": "markdown",
      "source": [
        "Task: Can you add an extra entry in this array?"
      ],
      "metadata": {
        "id": "QpjWUrD8sLB3"
      }
    },
    {
      "cell_type": "code",
      "execution_count": 18,
      "metadata": {
        "id": "hAAQ3BvHl6AJ"
      },
      "outputs": [],
      "source": [
        "# Add in the mag. errors that DESI catalogues don't propagate.\n",
        "GAIA['G_MAGERR']  = 0.0044\n",
        "GAIA['BP_MAGERR'] = 0.0281\n",
        "GAIA['RP_MAGERR'] = 0.0780\n",
        "GAIA['NOTE'] = 0.0 # I added this"
      ]
    },
    {
      "cell_type": "code",
      "execution_count": 20,
      "metadata": {
        "colab": {
          "base_uri": "https://localhost:8080/"
        },
        "id": "mqzfppZol6AJ",
        "outputId": "94f85e72-9dbf-4b91-8f0b-7760ad157efc"
      },
      "outputs": [
        {
          "output_type": "stream",
          "name": "stdout",
          "text": [
            "G_WAVE     \t 6.2306e+03\n",
            "BP_WAVE    \t 5.0515e+03\n",
            "RP_WAVE    \t 7.7262e+03\n",
            "G_MAG      \t 1.9515e+01\n",
            "G_FLUX     \t 3.9756e-17\n",
            "BP_MAG     \t 1.9348e+01\n",
            "BP_FLUX    \t 7.0501e-17\n",
            "RP_MAG     \t 1.9710e+01\n",
            "RP_FLUX    \t 2.1597e-17\n",
            "G_MAGERR   \t 4.4000e-03\n",
            "BP_MAGERR  \t 2.8100e-02\n",
            "RP_MAGERR  \t 7.8000e-02\n",
            "NOTE       \t 0.0000e+00\n"
          ]
        }
      ],
      "source": [
        "for key, value in GAIA.items():\n",
        "    print('{:10s} \\t {:07.4e}'.format(key, value))"
      ]
    },
    {
      "cell_type": "markdown",
      "metadata": {
        "id": "RwViYJZBl6AK"
      },
      "source": [
        "This combination, a measurement of distance (from parallax) and of apparent brightness (in a number of colors), is incredibly powerful, as together they tell us the intrinsic luminosity or brightness of the dwarf rather than how it appears to us, from which we can determine what physics could be determining how bright the white dwarf is."
      ]
    },
    {
      "cell_type": "markdown",
      "source": [
        "Task: Can you calculate the luminosity using the distance info and the Flux info?  Make a function luminosity(flux, distance)\n"
      ],
      "metadata": {
        "id": "6RL9L3rCsa0x"
      }
    },
    {
      "cell_type": "code",
      "source": [
        "def Lum(d,F):\n",
        "  result = F*4.*np.pi*d**2\n",
        "  return result"
      ],
      "metadata": {
        "id": "clDnJr1tIALx"
      },
      "execution_count": 21,
      "outputs": []
    },
    {
      "cell_type": "code",
      "source": [
        "G_lum=Lum(dist_para*parsec,GAIA['G_FLUX'])\n",
        "print('The G band luminosity must be {:5.3e} Watts.'.format(G_lum))"
      ],
      "metadata": {
        "id": "hoQ89R9AIVWN",
        "outputId": "782182cc-7c30-4de5-84f1-4afd9e344461",
        "colab": {
          "base_uri": "https://localhost:8080/"
        }
      },
      "execution_count": 23,
      "outputs": [
        {
          "output_type": "stream",
          "name": "stdout",
          "text": [
            "The G band luminosity must be 2.929e+23 Watts.\n"
          ]
        }
      ]
    },
    {
      "cell_type": "markdown",
      "metadata": {
        "id": "pvT9VsAEl6AK"
      },
      "source": [
        "# DESI"
      ]
    },
    {
      "cell_type": "markdown",
      "metadata": {
        "id": "OUwgdTpGl6AK"
      },
      "source": [
        "By resolving the subtle variations in the amount of light with wavelength, DESI gives us a much better idea of the White Dwarf composition and its history from its entire spectrum, rather than a few measurements at different colors:"
      ]
    },
    {
      "cell_type": "code",
      "execution_count": 24,
      "metadata": {
        "id": "tSXoZQUWl6AK",
        "colab": {
          "base_uri": "https://localhost:8080/"
        },
        "outputId": "df371d12-95c4-4b10-d904-095e77189928"
      },
      "outputs": [
        {
          "output_type": "execute_result",
          "data": {
            "text/plain": [
              "(<function print>,\n",
              " array([3600. , 3600.8, 3601.6, ..., 9822.4, 9823.2, 9824. ]),\n",
              " array([19.83247596, 20.21172825, 20.86586555, ...,  0.96770842,\n",
              "         0.94016326,  0.92251305]))"
            ]
          },
          "metadata": {},
          "execution_count": 24
        }
      ],
      "source": [
        "# Get the wavelength and flux\n",
        "wave  = coadd[1].data['WAVELENGTH']\n",
        "count = coadd[1].data['TARGET35191335094848528']\n",
        "print,wave,count"
      ]
    },
    {
      "cell_type": "markdown",
      "source": [
        "Task: what seems to be the resolution of DESI spectrograph R?\n"
      ],
      "metadata": {
        "id": "WAQBKeZBtFmL"
      }
    },
    {
      "cell_type": "code",
      "source": [
        "#mean wavelength\n",
        "wavemean=np.mean(wave)\n",
        "resol = wavemean/0.8\n",
        "\n",
        "print, wavemean, resol"
      ],
      "metadata": {
        "id": "wn_hoNTgtP-S",
        "outputId": "18bf39a6-c2be-4b6a-9960-9ffe9ee3c4f5",
        "colab": {
          "base_uri": "https://localhost:8080/"
        }
      },
      "execution_count": 25,
      "outputs": [
        {
          "output_type": "execute_result",
          "data": {
            "text/plain": [
              "(<function print>, 6719.611962804968, 8399.51495350621)"
            ]
          },
          "metadata": {},
          "execution_count": 25
        }
      ]
    },
    {
      "cell_type": "markdown",
      "source": [
        ""
      ],
      "metadata": {
        "id": "PrM-ZezdtY5c"
      }
    },
    {
      "cell_type": "code",
      "execution_count": 27,
      "metadata": {
        "colab": {
          "base_uri": "https://localhost:8080/",
          "height": 670
        },
        "id": "Jlyk3azgl6AK",
        "outputId": "4e5e7b51-1c3b-41e2-8aec-c69ef8af9a79"
      },
      "outputs": [
        {
          "output_type": "execute_result",
          "data": {
            "text/plain": [
              "Text(0.5, 1.0, 'TARGET35191335094848528')"
            ]
          },
          "metadata": {},
          "execution_count": 27
        },
        {
          "output_type": "display_data",
          "data": {
            "image/png": "[encoded data removed]",
            "text/plain": [
              "<Figure size 1440x720 with 1 Axes>"
            ]
          },
          "metadata": {
            "needs_background": "light"
          }
        }
      ],
      "source": [
        "# Plotting the DESI spectrum\n",
        "pl.figure(figsize=(20, 10))\n",
        "pl.plot(wave, count)\n",
        "pl.grid()\n",
        "pl.xlabel('Wavelength $[\\AA]$')\n",
        "pl.ylim(ymin=0.,ymax=25)\n",
        "\n",
        "pl.title('TARGET35191335094848528')"
      ]
    },
    {
      "cell_type": "code",
      "source": [
        ""
      ],
      "metadata": {
        "id": "iZfL0voBtW61"
      },
      "execution_count": 27,
      "outputs": []
    },
    {
      "cell_type": "markdown",
      "metadata": {
        "id": "1c5i90QPl6AL"
      },
      "source": [
        "Astronomers have spent a long time studying stars, classifying them according to different types - not least [Annie Jump Cannon](https://www.womenshistory.org/education-resources/biographies/annie-jump-cannon), "
      ]
    },
    {
      "cell_type": "markdown",
      "metadata": {
        "id": "JvwySx_il6AL"
      },
      "source": [
        "<img src=\"https://github.com/sheejong/desihigh/blob/main/desihigh/images/anniecannon.jpg?raw=1\" alt=\"Drawing\" style=\"width: 800px;\"/>"
      ]
    },
    {
      "cell_type": "markdown",
      "metadata": {
        "id": "X_dVv9HXl6AM"
      },
      "source": [
        "that has left us with a new ability to predict the spectrum of a star of given temperature, little $g$ - the acceleration due to gravity on their surface, and their mass.  Given 'standard' stars, those with external distance constraints we can also determine how intrinsically bright a given star is with a determined spectrum.  Let's grab these:"
      ]
    },
    {
      "cell_type": "code",
      "execution_count": 28,
      "metadata": {
        "id": "we9Rk8ZKl6AM",
        "outputId": "dd96f044-b3f8-4276-f8c2-79797d4dce08",
        "colab": {
          "base_uri": "https://localhost:8080/"
        }
      },
      "outputs": [
        {
          "output_type": "stream",
          "name": "stdout",
          "text": [
            "/content/drive/MyDrive/desihigh/desihigh/dat/WDspec\n",
            "['t023g73l.dat.npz', 't023g74l.dat.npz', 't023g75l.dat.npz', 't023g76l.dat.npz', 't023g77l.dat.npz', 't023g78l.dat.npz', 't023g79l.dat.npz', 't023g80l.dat.npz', 't023g81l.dat.npz', 't023g82l.dat.npz', 't023g83l.dat.npz', 't024g73l.dat.npz', 't024g74l.dat.npz', 't024g75l.dat.npz', 't024g76l.dat.npz', 't024g77l.dat.npz', 't024g78l.dat.npz', 't024g79l.dat.npz', 't024g80l.dat.npz', 't024g81l.dat.npz', 't024g82l.dat.npz', 't024g83l.dat.npz', 't025g73l.dat.npz', 't025g74l.dat.npz', 't025g75l.dat.npz', 't025g76l.dat.npz', 't025g77l.dat.npz', 't025g78l.dat.npz', 't025g79l.dat.npz', 't025g80l.dat.npz', 't025g81l.dat.npz', 't025g82l.dat.npz', 't025g83l.dat.npz', 't026g73l.dat.npz', 't026g74l.dat.npz', 't026g75l.dat.npz', 't026g76l.dat.npz', 't026g77l.dat.npz', 't026g78l.dat.npz', 't026g79l.dat.npz', 't026g80l.dat.npz', 't026g81l.dat.npz', 't026g82l.dat.npz', 't026g83l.dat.npz', 't027g73l.dat.npz', 't027g74l.dat.npz', 't027g75l.dat.npz', 't027g76l.dat.npz', 't027g77l.dat.npz', 't027g78l.dat.npz', 't027g79l.dat.npz', 't027g80l.dat.npz', 't027g81l.dat.npz', 't027g82l.dat.npz', 't027g83l.dat.npz', 't028g73l.dat.npz', 't028g74l.dat.npz', 't028g75l.dat.npz', 't028g76l.dat.npz', 't028g77l.dat.npz', 't028g78l.dat.npz', 't028g79l.dat.npz', 't028g80l.dat.npz', 't028g81l.dat.npz', 't028g82l.dat.npz', 't028g83l.dat.npz']\n",
            "Collected 66 model spectra.\n"
          ]
        }
      ],
      "source": [
        "# White Dwarf model spectra [Levenhagen 2017](https://ui.adsabs.harvard.edu/abs/2017ApJS..231....1L)\n",
        "wdspec             = resource_filename('desihigh', 'dat/WDspec')\n",
        "spec_da_list       = os.listdir(wdspec)\n",
        "model_flux_spec_da = []\n",
        "model_wave_spec_da = []\n",
        "\n",
        "T_spec_da          = []\n",
        "logg_spec_da       = []\n",
        "\n",
        "print(wdspec) \n",
        "print(spec_da_list)\n",
        "\n",
        "# Loop over files in the directory and collect into a list. \n",
        "for filename in spec_da_list:\n",
        "    if filename[-4:] != '.npz':\n",
        "        continue\n",
        "    model = np.load(wdspec + '/' + filename)['arr_0']\n",
        "    model_flux_spec_da.append(model[:,1])\n",
        "    model_wave_spec_da.append(model[:,0])\n",
        "    T, logg = filename.split('.')[0].split('t0')[-1].split('g')\n",
        "    T_spec_da.append(float(T) * 1000.)\n",
        "    logg_spec_da.append(float(logg[:-1]) / 10.)\n",
        "    \n",
        "print('Collected {:d} model spectra.'.format(len(spec_da_list)))"
      ]
    },
    {
      "cell_type": "code",
      "execution_count": 29,
      "metadata": {
        "id": "TUMB_TOml6AM",
        "outputId": "30cc69d0-e2b5-465d-c679-8d6c59b3a8f3",
        "colab": {
          "base_uri": "https://localhost:8080/",
          "height": 317
        }
      },
      "outputs": [
        {
          "output_type": "execute_result",
          "data": {
            "text/plain": [
              "Text(0, 0.5, 'Normalised flux')"
            ]
          },
          "metadata": {},
          "execution_count": 29
        },
        {
          "output_type": "display_data",
          "data": {
            "image/png": "[encoded data removed]",
            "text/plain": [
              "<Figure size 478.207x295.548 with 1 Axes>"
            ]
          },
          "metadata": {
            "needs_background": "light"
          }
        }
      ],
      "source": [
        "# We'll select every 10th model white dwarf spectra to plot. \n",
        "nth = 10\n",
        "\n",
        "for model_wave, model_flux, model_temp in zip(model_wave_spec_da[::nth], model_flux_spec_da[::nth], T_spec_da[::nth]):\n",
        "    pl.plot(model_wave, model_flux / model_flux[-1], label=r'$T = {:.1e}$'.format(model_temp))\n",
        "\n",
        "# Other commands to set the plot\n",
        "pl.xlim(3000., 10000.)\n",
        "# pl.ylim(ymin=1., ymax=3.6)\n",
        "pl.legend(frameon=False, ncol=2)\n",
        "pl.xlabel('Wavelength [Angstroms]')\n",
        "pl.ylabel('Normalised flux')"
      ]
    },
    {
      "cell_type": "markdown",
      "metadata": {
        "id": "FsCezVccl6AN"
      },
      "source": [
        "Firstly, these white dwarves are hot!  At 240,000 Kelvin, you shouldn't touch one.  While we can see that the hottest white dwarf is brightest at short wavelength and will therefore appear blue.  In exactly the same way as the bluest part of a flame is the hottest:"
      ]
    },
    {
      "cell_type": "markdown",
      "metadata": {
        "id": "NHkcmpmdl6AN"
      },
      "source": [
        "<img src=\"https://github.com/sheejong/desihigh/blob/main/desihigh/images/bunsen.jpg?raw=1\" alt=\"Drawing\" style=\"width: 280px;\"/>"
      ]
    },
    {
      "cell_type": "markdown",
      "metadata": {
        "id": "UJEqOG-7l6AN"
      },
      "source": [
        "So now we have everything to find the temperature of the White Dwarf that DESI was able to find.  As for the Intro., we simply find the model that looks most like the data.  "
      ]
    },
    {
      "cell_type": "code",
      "execution_count": 30,
      "metadata": {
        "id": "DmBQC1izl6AN"
      },
      "outputs": [],
      "source": [
        "# wavelength range to be fitted\n",
        "wave_min = 3750.\n",
        "wave_max = 5200.\n",
        "\n",
        "sq_diff  = []\n",
        "\n",
        "# Masking the range to be fitted\n",
        "fitted_range = (wave > wave_min) & (wave < wave_max)\n",
        "fitted_wave  =  wave[fitted_range] \n",
        "\n",
        "for model_wave, model_flux in zip(model_wave_spec_da, model_flux_spec_da):\n",
        "    # Resample the model resoltuion to match the observed spectrum\n",
        "    model_flux_resampled = trapz_rebin(model_wave, model_flux, fitted_wave)\n",
        "    \n",
        "    # Compute the sum of the squared difference of the individually normalised model and observed spectra\n",
        "    sq_diff.append(np.sum((model_flux_resampled / np.median(model_flux_resampled) - count[fitted_range] / np.median(count[fitted_range]))**2.))\n",
        "    \n",
        "# Unit-weighted least-squared best-fit surface gravity and temperature from the DESI spctrum\n",
        "arg_min   = np.argmin(sq_diff)\n",
        "T_desi    = T_spec_da[arg_min]\n",
        "logg_desi = logg_spec_da[arg_min]"
      ]
    },
    {
      "cell_type": "code",
      "execution_count": 34,
      "metadata": {
        "id": "yk6njzAul6AO",
        "outputId": "0c033af1-d03c-4ed8-f78d-df45559eb126",
        "colab": {
          "base_uri": "https://localhost:8080/",
          "height": 665
        }
      },
      "outputs": [
        {
          "output_type": "execute_result",
          "data": {
            "text/plain": [
              "Text(0.5, 1.0, 'DESI White Dwarf:   Temperature = 26000.0 K;  $\\\\log_{10}$(g) = 7.6')"
            ]
          },
          "metadata": {},
          "execution_count": 34
        },
        {
          "output_type": "display_data",
          "data": {
            "image/png": "[encoded data removed]",
            "text/plain": [
              "<Figure size 1080x720 with 1 Axes>"
            ]
          },
          "metadata": {
            "needs_background": "light"
          }
        }
      ],
      "source": [
        "# Plot the best fit only\n",
        "fitted_range = (model_wave_spec_da[arg_min] > wave_min) & (model_wave_spec_da[arg_min] < wave_max)\n",
        "fitted_range_data = (wave > wave_min) & (wave < wave_max)\n",
        "\n",
        "pl.figure(figsize=(15, 10))\n",
        "pl.plot(wave[fitted_range_data], count[fitted_range_data] / np.median(count[fitted_range_data]), label='DESI spectrum')\n",
        "pl.plot(model_wave_spec_da[arg_min][fitted_range], model_flux_spec_da[arg_min][fitted_range] / np.median(model_flux_spec_da[arg_min][fitted_range]), label='Best-fit model')\n",
        "pl.grid()\n",
        "pl.xlim(wave_min, wave_max)\n",
        "pl.xlabel('Wavelength [Angstroms]')\n",
        "pl.ylabel('Normalised Flux')\n",
        "pl.legend(frameon=False)\n",
        "pl.title('DESI White Dwarf:   Temperature = ' + str(T_desi) + ' K;  $\\log_{10}$(g) = ' + str(logg_desi))"
      ]
    },
    {
      "cell_type": "markdown",
      "metadata": {
        "id": "wV_KZDA-l6AO"
      },
      "source": [
        "So our white dwarf is a cool 26,000 Kelvin.  While the surface gravity would be unbearable.  If you remember, the gravitational acceleration is derived from the mass and radius of a body as $g = \\frac{G \\cdot M}{r^2}$ and is roughly a measure of how dense an object is.  Let's see what this looks like for a few well known sources"
      ]
    },
    {
      "cell_type": "code",
      "execution_count": null,
      "metadata": {
        "id": "s7nto4uyl6AO"
      },
      "outputs": [],
      "source": [
        "logg = pd.read_csv(resource_filename('desihigh', 'dat/logg.txt'), sep='\\s+', comment='#', names=['Body', 'Surface Gravity [g]'])\n",
        "logg = logg.sort_values('Surface Gravity [g]')\n",
        "logg"
      ]
    },
    {
      "cell_type": "code",
      "execution_count": null,
      "metadata": {
        "id": "-fIPA361l6AP"
      },
      "outputs": [],
      "source": [
        "fig, ax = plt.subplots()\n",
        "\n",
        "pl.plot(np.arange(0, len(logg), 1), logg['Surface Gravity [g]'], marker='.', c='k')\n",
        "\n",
        "plt.xticks(np.arange(len(logg)))\n",
        "ax.set_xticklabels(logg['Body'], rotation='vertical')\n",
        "ax.set_ylabel('Surface gravity [g]')"
      ]
    },
    {
      "cell_type": "markdown",
      "metadata": {
        "id": "1nsLRiqil6AP"
      },
      "source": [
        "So the acceleration on Jupyter is a few times higher than that on earth, while on the Sun it'd be 30 times higher.  The force you feel during takeoff of a flight is roughly 30% larger than the acceleration due to gravity on Earth.  For our DESI white dwarf, the acceleration due to gravity on the surface is:"
      ]
    },
    {
      "cell_type": "code",
      "execution_count": 37,
      "metadata": {
        "id": "4b3mhg3cl6AP",
        "outputId": "0af90243-9b9f-4f83-d040-424948552a0b",
        "colab": {
          "base_uri": "https://localhost:8080/"
        }
      },
      "outputs": [
        {
          "output_type": "execute_result",
          "data": {
            "text/plain": [
              "40581.770698623535"
            ]
          },
          "metadata": {},
          "execution_count": 37
        }
      ],
      "source": [
        "logg = 7.6 \n",
        "\n",
        "g    = 10.**7.6 # cm2 / s.\n",
        "g   /= 100.     # m2 / s\n",
        "\n",
        "g   /= 9.81     # Relative to that on Earth, i.e. [g].   \n",
        "g"
      ]
    },
    {
      "cell_type": "markdown",
      "metadata": {
        "id": "oe2Bw6Khl6AP"
      },
      "source": [
        "times higher than that on Earth!  In fact, if it weren't for strange restrictions on what electrons can and cannot not do (as determined by Quantum Mechanics), the White Dwarf would be so dense it would collapse entirely.  Go figure! "
      ]
    },
    {
      "cell_type": "markdown",
      "metadata": {
        "id": "9wTsft5cl6AQ"
      },
      "source": [
        "Now it's your turn.  Can you find an class of object even more dense than a White Dwarf?  What is the acceleration due to gravity on its surface?  "
      ]
    },
    {
      "cell_type": "markdown",
      "source": [
        "Task: Let's add a figure of your own and some text.\n",
        "For me, I want to add two figures that we will discuss in class.\n",
        "\n",
        "Check the text boxes for figures in this notebook. We can benchmark it if we are going to upload figures to the github. But I want youn try uploading a figure to the google drive and include it here. \n",
        "\n",
        "We can use the function in the text cell, but that includes an entire file, which we sometimes don't want. Let try this way.\n",
        "\n",
        "1. Upload your figures to drive. I did under Myimages/\n",
        "\n",
        "2. Then get a sharable link\n",
        "\" https://drive.google.com/file/d/19vbarLQvPXgHdDUXHTBog985hz6l5o5H/view?usp=sharing\"\n",
        "\n",
        "3. Get the figure id. \"19vbarLQvPXgHdDUXHTBog985hz6l5o5H\".\n",
        "4. Now paste id after \"https://drive.google.com/uc?export=view&id=your_id\"\n",
        "\n",
        "5. Write \"![picture](the new adderss)\"\n",
        "\n",
        "\n",
        "![picture](https://drive.google.com/uc?export=view&id=19vbarLQvPXgHdDUXHTBog985hz6l5o5H)\n"
      ],
      "metadata": {
        "id": "20acstLe3z4I"
      }
    },
    {
      "cell_type": "markdown",
      "source": [
        "![picture](https://drive.google.com/uc?export=view&id=19vbarLQvPXgHdDUXHTBog985hz6l5o5H)\n"
      ],
      "metadata": {
        "id": "q4gfv_B5OUjJ"
      }
    },
    {
      "cell_type": "markdown",
      "metadata": {
        "id": "cDb4Jajnl6AR"
      },
      "source": [
        "Harder(!)  You may be one of the first to see this White Dwarf 'up close'!  What else can you find out about it?  Here's something to get you started ... "
      ]
    },
    {
      "cell_type": "code",
      "execution_count": 38,
      "metadata": {
        "id": "PHmDjq38l6AR",
        "outputId": "7c1f829d-6b7f-475a-fa60-a6fa641c59dc",
        "colab": {
          "base_uri": "https://localhost:8080/",
          "height": 423
        }
      },
      "outputs": [
        {
          "output_type": "execute_result",
          "data": {
            "text/html": [
              "\n",
              "  <div id=\"df-83b7039a-07ea-46b3-a708-3092ccfee2aa\">\n",
              "    <div class=\"colab-df-container\">\n",
              "      <div>\n",
              "<style scoped>\n",
              "    .dataframe tbody tr th:only-of-type {\n",
              "        vertical-align: middle;\n",
              "    }\n",
              "\n",
              "    .dataframe tbody tr th {\n",
              "        vertical-align: top;\n",
              "    }\n",
              "\n",
              "    .dataframe thead th {\n",
              "        text-align: right;\n",
              "    }\n",
              "</style>\n",
              "<table border=\"1\" class=\"dataframe\">\n",
              "  <thead>\n",
              "    <tr style=\"text-align: right;\">\n",
              "      <th></th>\n",
              "      <th>Teff</th>\n",
              "      <th>logg</th>\n",
              "      <th>Age</th>\n",
              "      <th>G</th>\n",
              "      <th>G_BP</th>\n",
              "      <th>G_RP</th>\n",
              "    </tr>\n",
              "  </thead>\n",
              "  <tbody>\n",
              "    <tr>\n",
              "      <th>0</th>\n",
              "      <td>2500.0</td>\n",
              "      <td>7.0</td>\n",
              "      <td>5.893000e+09</td>\n",
              "      <td>16.383</td>\n",
              "      <td>16.962</td>\n",
              "      <td>15.680</td>\n",
              "    </tr>\n",
              "    <tr>\n",
              "      <th>1</th>\n",
              "      <td>2750.0</td>\n",
              "      <td>7.0</td>\n",
              "      <td>4.242000e+09</td>\n",
              "      <td>16.034</td>\n",
              "      <td>16.736</td>\n",
              "      <td>15.249</td>\n",
              "    </tr>\n",
              "    <tr>\n",
              "      <th>2</th>\n",
              "      <td>3000.0</td>\n",
              "      <td>7.0</td>\n",
              "      <td>3.471000e+09</td>\n",
              "      <td>15.733</td>\n",
              "      <td>16.515</td>\n",
              "      <td>14.900</td>\n",
              "    </tr>\n",
              "    <tr>\n",
              "      <th>3</th>\n",
              "      <td>3250.0</td>\n",
              "      <td>7.0</td>\n",
              "      <td>3.218000e+09</td>\n",
              "      <td>15.479</td>\n",
              "      <td>16.292</td>\n",
              "      <td>14.627</td>\n",
              "    </tr>\n",
              "    <tr>\n",
              "      <th>4</th>\n",
              "      <td>3500.0</td>\n",
              "      <td>7.0</td>\n",
              "      <td>2.981000e+09</td>\n",
              "      <td>15.256</td>\n",
              "      <td>16.058</td>\n",
              "      <td>14.408</td>\n",
              "    </tr>\n",
              "    <tr>\n",
              "      <th>...</th>\n",
              "      <td>...</td>\n",
              "      <td>...</td>\n",
              "      <td>...</td>\n",
              "      <td>...</td>\n",
              "      <td>...</td>\n",
              "      <td>...</td>\n",
              "    </tr>\n",
              "    <tr>\n",
              "      <th>280</th>\n",
              "      <td>110000.0</td>\n",
              "      <td>9.0</td>\n",
              "      <td>0.000000e+00</td>\n",
              "      <td>10.311</td>\n",
              "      <td>10.034</td>\n",
              "      <td>10.666</td>\n",
              "    </tr>\n",
              "    <tr>\n",
              "      <th>281</th>\n",
              "      <td>120000.0</td>\n",
              "      <td>9.0</td>\n",
              "      <td>0.000000e+00</td>\n",
              "      <td>10.233</td>\n",
              "      <td>9.954</td>\n",
              "      <td>10.591</td>\n",
              "    </tr>\n",
              "    <tr>\n",
              "      <th>282</th>\n",
              "      <td>130000.0</td>\n",
              "      <td>9.0</td>\n",
              "      <td>0.000000e+00</td>\n",
              "      <td>10.160</td>\n",
              "      <td>9.880</td>\n",
              "      <td>10.521</td>\n",
              "    </tr>\n",
              "    <tr>\n",
              "      <th>283</th>\n",
              "      <td>140000.0</td>\n",
              "      <td>9.0</td>\n",
              "      <td>0.000000e+00</td>\n",
              "      <td>10.092</td>\n",
              "      <td>9.811</td>\n",
              "      <td>10.455</td>\n",
              "    </tr>\n",
              "    <tr>\n",
              "      <th>284</th>\n",
              "      <td>150000.0</td>\n",
              "      <td>9.0</td>\n",
              "      <td>0.000000e+00</td>\n",
              "      <td>10.028</td>\n",
              "      <td>9.745</td>\n",
              "      <td>10.392</td>\n",
              "    </tr>\n",
              "  </tbody>\n",
              "</table>\n",
              "<p>285 rows × 6 columns</p>\n",
              "</div>\n",
              "      <button class=\"colab-df-convert\" onclick=\"convertToInteractive('df-83b7039a-07ea-46b3-a708-3092ccfee2aa')\"\n",
              "              title=\"Convert this dataframe to an interactive table.\"\n",
              "              style=\"display:none;\">\n",
              "        \n",
              "  <svg xmlns=\"http://www.w3.org/2000/svg\" height=\"24px\"viewBox=\"0 0 24 24\"\n",
              "       width=\"24px\">\n",
              "    <path d=\"M0 0h24v24H0V0z\" fill=\"none\"/>\n",
              "    <path d=\"M18.56 5.44l.94 2.06.94-2.06 2.06-.94-2.06-.94-.94-2.06-.94 2.06-2.06.94zm-11 1L8.5 8.5l.94-2.06 2.06-.94-2.06-.94L8.5 2.5l-.94 2.06-2.06.94zm10 10l.94 2.06.94-2.06 2.06-.94-2.06-.94-.94-2.06-.94 2.06-2.06.94z\"/><path d=\"M17.41 7.96l-1.37-1.37c-.4-.4-.92-.59-1.43-.59-.52 0-1.04.2-1.43.59L10.3 9.45l-7.72 7.72c-.78.78-.78 2.05 0 2.83L4 21.41c.39.39.9.59 1.41.59.51 0 1.02-.2 1.41-.59l7.78-7.78 2.81-2.81c.8-.78.8-2.07 0-2.86zM5.41 20L4 18.59l7.72-7.72 1.47 1.35L5.41 20z\"/>\n",
              "  </svg>\n",
              "      </button>\n",
              "      \n",
              "  <style>\n",
              "    .colab-df-container {\n",
              "      display:flex;\n",
              "      flex-wrap:wrap;\n",
              "      gap: 12px;\n",
              "    }\n",
              "\n",
              "    .colab-df-convert {\n",
              "      background-color: #E8F0FE;\n",
              "      border: none;\n",
              "      border-radius: 50%;\n",
              "      cursor: pointer;\n",
              "      display: none;\n",
              "      fill: #1967D2;\n",
              "      height: 32px;\n",
              "      padding: 0 0 0 0;\n",
              "      width: 32px;\n",
              "    }\n",
              "\n",
              "    .colab-df-convert:hover {\n",
              "      background-color: #E2EBFA;\n",
              "      box-shadow: 0px 1px 2px rgba(60, 64, 67, 0.3), 0px 1px 3px 1px rgba(60, 64, 67, 0.15);\n",
              "      fill: #174EA6;\n",
              "    }\n",
              "\n",
              "    [theme=dark] .colab-df-convert {\n",
              "      background-color: #3B4455;\n",
              "      fill: #D2E3FC;\n",
              "    }\n",
              "\n",
              "    [theme=dark] .colab-df-convert:hover {\n",
              "      background-color: #434B5C;\n",
              "      box-shadow: 0px 1px 3px 1px rgba(0, 0, 0, 0.15);\n",
              "      filter: drop-shadow(0px 1px 2px rgba(0, 0, 0, 0.3));\n",
              "      fill: #FFFFFF;\n",
              "    }\n",
              "  </style>\n",
              "\n",
              "      <script>\n",
              "        const buttonEl =\n",
              "          document.querySelector('#df-83b7039a-07ea-46b3-a708-3092ccfee2aa button.colab-df-convert');\n",
              "        buttonEl.style.display =\n",
              "          google.colab.kernel.accessAllowed ? 'block' : 'none';\n",
              "\n",
              "        async function convertToInteractive(key) {\n",
              "          const element = document.querySelector('#df-83b7039a-07ea-46b3-a708-3092ccfee2aa');\n",
              "          const dataTable =\n",
              "            await google.colab.kernel.invokeFunction('convertToInteractive',\n",
              "                                                     [key], {});\n",
              "          if (!dataTable) return;\n",
              "\n",
              "          const docLinkHtml = 'Like what you see? Visit the ' +\n",
              "            '<a target=\"_blank\" href=https://colab.research.google.com/notebooks/data_table.ipynb>data table notebook</a>'\n",
              "            + ' to learn more about interactive tables.';\n",
              "          element.innerHTML = '';\n",
              "          dataTable['output_type'] = 'display_data';\n",
              "          await google.colab.output.renderOutput(dataTable, element);\n",
              "          const docLink = document.createElement('div');\n",
              "          docLink.innerHTML = docLinkHtml;\n",
              "          element.appendChild(docLink);\n",
              "        }\n",
              "      </script>\n",
              "    </div>\n",
              "  </div>\n",
              "  "
            ],
            "text/plain": [
              "         Teff  logg           Age       G    G_BP    G_RP\n",
              "0      2500.0   7.0  5.893000e+09  16.383  16.962  15.680\n",
              "1      2750.0   7.0  4.242000e+09  16.034  16.736  15.249\n",
              "2      3000.0   7.0  3.471000e+09  15.733  16.515  14.900\n",
              "3      3250.0   7.0  3.218000e+09  15.479  16.292  14.627\n",
              "4      3500.0   7.0  2.981000e+09  15.256  16.058  14.408\n",
              "..        ...   ...           ...     ...     ...     ...\n",
              "280  110000.0   9.0  0.000000e+00  10.311  10.034  10.666\n",
              "281  120000.0   9.0  0.000000e+00  10.233   9.954  10.591\n",
              "282  130000.0   9.0  0.000000e+00  10.160   9.880  10.521\n",
              "283  140000.0   9.0  0.000000e+00  10.092   9.811  10.455\n",
              "284  150000.0   9.0  0.000000e+00  10.028   9.745  10.392\n",
              "\n",
              "[285 rows x 6 columns]"
            ]
          },
          "metadata": {},
          "execution_count": 38
        }
      ],
      "source": [
        "model_colors = pd.read_csv(resource_filename('desihigh', 'dat/WDphot/Table_DA.txt'), sep='\\s+', comment='#') \n",
        "model_colors = model_colors[['Teff', 'logg', 'Age', 'G', 'G_BP', 'G_RP']]\n",
        "model_colors"
      ]
    },
    {
      "cell_type": "markdown",
      "metadata": {
        "id": "A9W4huInl6AS"
      },
      "source": [
        "The above table shows the model prediction for colors of the white dwarf observed by GAIA, if it had the temperature, age and surface gravity (logg) shown.  "
      ]
    },
    {
      "cell_type": "markdown",
      "metadata": {
        "id": "LM7RnprCl6AT"
      },
      "source": [
        "The GAIA colors observed for the DESI white dwarf are:"
      ]
    },
    {
      "cell_type": "code",
      "execution_count": null,
      "metadata": {
        "id": "P1uyCIiql6AT",
        "outputId": "3910407d-7234-4d84-e967-15be3e54599f"
      },
      "outputs": [
        {
          "data": {
            "text/plain": [
              "(19.514544, 19.34811, 19.70989)"
            ]
          },
          "execution_count": 22,
          "metadata": {},
          "output_type": "execute_result"
        }
      ],
      "source": [
        "GAIA['G_MAG'], GAIA['BP_MAG'], GAIA['RP_MAG']"
      ]
    },
    {
      "cell_type": "code",
      "execution_count": null,
      "metadata": {
        "id": "jnerrw2gl6AT",
        "outputId": "bc7b1ace-957a-469f-9726-354a9fd1ffb8"
      },
      "outputs": [
        {
          "data": {
            "text/plain": [
              "(0.0044, 0.0281, 0.078)"
            ]
          },
          "execution_count": 23,
          "metadata": {},
          "output_type": "execute_result"
        }
      ],
      "source": [
        "GAIA['G_MAGERR'], GAIA['BP_MAGERR'], GAIA['RP_MAGERR']"
      ]
    },
    {
      "cell_type": "markdown",
      "metadata": {
        "id": "MoeriSbOl6AU"
      },
      "source": [
        "Can you figure out how old are White Dwarf is?  What does that say about the age of our Universe?  Does it match the estimates of other [experiments](https://www.space.com/24054-how-old-is-the-universe.html#:~:text=In%202013%2C%20Planck%20measured%20the,universe%20at%2013.82%20billion%20years.)? "
      ]
    },
    {
      "cell_type": "markdown",
      "metadata": {
        "id": "-QSEh4J2l6AU"
      },
      "source": [
        "If you get stuck, or need another hint, leave us a [message](https://www.github.com/michaelJwilson/DESI-HighSchool/issues/new)! "
      ]
    }
  ],
  "metadata": {
    "kernelspec": {
      "display_name": "Python 3",
      "language": "python",
      "name": "python3"
    },
    "language_info": {
      "codemirror_mode": {
        "name": "ipython",
        "version": 3
      },
      "file_extension": ".py",
      "mimetype": "text/x-python",
      "name": "python",
      "nbconvert_exporter": "python",
      "pygments_lexer": "ipython3",
      "version": "3.7.9"
    },
    "nbTranslate": {
      "displayLangs": [
        "*"
      ],
      "hotkey": "alt-t",
      "langInMainMenu": true,
      "sourceLang": "en",
      "targetLang": "fr",
      "useGoogleTranslate": true
    },
    "colab": {
      "name": "SnowWhiteDwarf.ipynb",
      "provenance": []
    }
  },
  "nbformat": 4,
  "nbformat_minor": 0
}