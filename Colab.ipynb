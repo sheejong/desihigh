{
  "cells": [
    {
      "cell_type": "code",
      "execution_count": 1,
      "id": "786f4d66",
      "metadata": {
        "id": "786f4d66"
      },
      "outputs": [],
      "source": [
        "from PIL import Image"
      ]
    },
    {
      "cell_type": "markdown",
      "id": "79ddf98a",
      "metadata": {
        "id": "79ddf98a"
      },
      "source": [
        "# Welcome to DESI High @ Google Collab!"
      ]
    },
    {
      "cell_type": "markdown",
      "id": "5c7d4a3d",
      "metadata": {
        "id": "5c7d4a3d"
      },
      "source": [
        "![title](https://github.com/sheejong/desihigh/blob/main/desihigh/images/colab.webp?raw=1)"
      ]
    },
    {
      "cell_type": "markdown",
      "id": "0f903986",
      "metadata": {
        "id": "0f903986"
      },
      "source": [
        "An exciting adventure awaits you as you will soon have at your fingertips hot-off-the-telescope DESI data to run your own experiments. "
      ]
    },
    {
      "cell_type": "markdown",
      "id": "fe224eea",
      "metadata": {
        "id": "fe224eea"
      },
      "source": [
        "For you to create and save your own experiments, we'll run everything on Google Colab.  This will leave you with a copy of any additions on your Google Drive. "
      ]
    },
    {
      "cell_type": "markdown",
      "id": "adb458e0",
      "metadata": {
        "id": "adb458e0"
      },
      "source": [
        "We'll need the starter script, downloading from the DESI High repo:"
      ]
    },
    {
      "cell_type": "code",
      "execution_count": 2,
      "id": "746096fd",
      "metadata": {
        "id": "746096fd",
        "outputId": "e28560ce-a1fc-4908-a758-8a37308774e3",
        "colab": {
          "base_uri": "https://localhost:8080/"
        }
      },
      "outputs": [
        {
          "output_type": "stream",
          "name": "stdout",
          "text": [
            "--2022-02-10 19:16:41--  https://raw.githubusercontent.com/michaelJwilson/desihigh/main/colab.py\n",
            "Resolving raw.githubusercontent.com (raw.githubusercontent.com)... 185.199.108.133, 185.199.109.133, 185.199.110.133, ...\n",
            "Connecting to raw.githubusercontent.com (raw.githubusercontent.com)|185.199.108.133|:443... connected.\n",
            "HTTP request sent, awaiting response... 200 OK\n",
            "Length: 1035 (1.0K) [text/plain]\n",
            "Saving to: ‘colab.py’\n",
            "\n",
            "\rcolab.py              0%[                    ]       0  --.-KB/s               \rcolab.py            100%[===================>]   1.01K  --.-KB/s    in 0s      \n",
            "\n",
            "2022-02-10 19:16:42 (26.9 MB/s) - ‘colab.py’ saved [1035/1035]\n",
            "\n"
          ]
        }
      ],
      "source": [
        "! wget --no-clobber -O colab.py https://raw.githubusercontent.com/michaelJwilson/desihigh/main/colab.py"
      ]
    },
    {
      "cell_type": "markdown",
      "id": "0e65366d",
      "metadata": {
        "id": "0e65366d"
      },
      "source": [
        "So, without further ado, the magic incantation:"
      ]
    },
    {
      "cell_type": "code",
      "execution_count": 2,
      "id": "2d9fe293",
      "metadata": {
        "id": "2d9fe293",
        "outputId": "309c3331-c2df-4419-ea71-bb8b2ca945f1",
        "colab": {
          "base_uri": "https://localhost:8080/"
        }
      },
      "outputs": [
        {
          "output_type": "stream",
          "name": "stdout",
          "text": [
            "Mounted at /content/drive/\n"
          ]
        }
      ],
      "source": [
        "import colab"
      ]
    },
    {
      "cell_type": "markdown",
      "id": "44a7ba81",
      "metadata": {
        "id": "44a7ba81"
      },
      "source": [
        "Congratulations, you've just loaded your first Python library!  And it's a useful one aswell."
      ]
    },
    {
      "cell_type": "markdown",
      "id": "b3a627e5",
      "metadata": {
        "id": "b3a627e5"
      },
      "source": [
        "Now, we can get started with the real thing.  Buckle up!"
      ]
    },
    {
      "cell_type": "markdown",
      "id": "5f541ea9",
      "metadata": {
        "id": "5f541ea9"
      },
      "source": [
        "[https://www.githubtocolab.com/michaelJwilson/desihigh](https://www.githubtocolab.com/michaelJwilson/desihigh)"
      ]
    }
  ],
  "metadata": {
    "kernelspec": {
      "display_name": "Python 3 (ipykernel)",
      "language": "python",
      "name": "python3"
    },
    "language_info": {
      "codemirror_mode": {
        "name": "ipython",
        "version": 3
      },
      "file_extension": ".py",
      "mimetype": "text/x-python",
      "name": "python",
      "nbconvert_exporter": "python",
      "pygments_lexer": "ipython3",
      "version": "3.7.11"
    },
    "colab": {
      "name": "Colab.ipynb",
      "provenance": []
    }
  },
  "nbformat": 4,
  "nbformat_minor": 5
}